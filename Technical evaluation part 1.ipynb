{
 "cells": [
  {
   "cell_type": "markdown",
   "metadata": {},
   "source": [
    "Bioinformatic's exercise done by Laleh Varghaei"
   ]
  },
  {
   "cell_type": "markdown",
   "metadata": {},
   "source": [
    "Convert the txt file to a CSV file."
   ]
  },
  {
   "cell_type": "code",
   "execution_count": 1,
   "metadata": {},
   "outputs": [],
   "source": [
    "import csv\n",
    "\n",
    "input_file = '/Users/laleh/Desktop/Bioinformatics_GU/samples.txt'\n",
    "output_file = '/Users/laleh/Desktop/Bioinformatics_GU/samples.csv'\n",
    "\n",
    "# Convert the txt file to a csv file\n",
    "with open(input_file, 'r') as file:\n",
    "    lines = file.readlines()\n",
    "\n",
    "with open(output_file, 'w', newline='') as csvfile:\n",
    "    csv_writer = csv.writer(csvfile)\n",
    "    \n",
    "    header = lines[0].strip().split(',')\n",
    "    csv_writer.writerow(header)\n",
    "    \n",
    "    for line in lines[1:]:\n",
    "        row = line.strip().split(',')\n",
    "        csv_writer.writerow(row)\n"
   ]
  },
  {
   "cell_type": "markdown",
   "metadata": {},
   "source": [
    "Read the CSV file."
   ]
  },
  {
   "cell_type": "code",
   "execution_count": 2,
   "metadata": {},
   "outputs": [
    {
     "name": "stdout",
     "output_type": "stream",
     "text": [
      "       sample  pct_N_bases  pct_covered_bases  longest_no_N_run  \\\n",
      "0    DN-64554         3.91              96.07              7055   \n",
      "1    DC-31756         4.14              95.93              7055   \n",
      "2    DD-28879         4.32              95.68              9033   \n",
      "3    DD-22466         3.63              96.37              7055   \n",
      "4    DC-95171         4.13              95.86              8855   \n",
      "..        ...          ...                ...               ...   \n",
      "368  DD-23750         8.76              91.29              6683   \n",
      "369  DN-86931        38.16              61.85              1595   \n",
      "370  DT-97623        10.15              89.85              6489   \n",
      "371  DN-11305         5.44              94.56              7057   \n",
      "372  DD-41981         9.75              90.23              5793   \n",
      "\n",
      "     num_aligned_reads  qc_pass  \n",
      "0               489499     True  \n",
      "1               527966     True  \n",
      "2               444775     True  \n",
      "3               621979     True  \n",
      "4               510658     True  \n",
      "..                 ...      ...  \n",
      "368             470842    False  \n",
      "369             129289    False  \n",
      "370             527338    False  \n",
      "371             538274    False  \n",
      "372             780274    False  \n",
      "\n",
      "[373 rows x 6 columns]\n"
     ]
    }
   ],
   "source": [
    "import pandas as pd\n",
    "\n",
    "data = pd.read_csv(output_file)\n",
    "print(data)"
   ]
  },
  {
   "cell_type": "markdown",
   "metadata": {},
   "source": [
    "Write a script that can be run automatically each time such a quality file is generated, and look\n",
    "at how many samples from each origin fail the set quality cut-off (< 95 % covered bases of the\n",
    "reference genome or ‘FALSE’ in column 6).\n",
    "\n",
    "As this script should run automatically once a week, the script should also serve as a warning system,\n",
    "sending warnings if there are certain origins producing more than 10% failed samples. Therefore, you\n",
    "need to implement a system that notifies its user in some way, telling them the latest results."
   ]
  },
  {
   "cell_type": "code",
   "execution_count": 3,
   "metadata": {},
   "outputs": [
    {
     "name": "stdout",
     "output_type": "stream",
     "text": [
      "Number of failing samples from each origin:\n",
      "D    32\n",
      "N    27\n",
      "C    20\n",
      "T    12\n",
      "Name: origin, dtype: int64\n",
      "\n",
      "Percentage of failing samples from each origin:\n",
      "C    25.000000\n",
      "D    29.906542\n",
      "N    28.125000\n",
      "T    13.333333\n",
      "dtype: float64\n"
     ]
    }
   ],
   "source": [
    "import smtplib\n",
    "from email.mime.text import MIMEText\n",
    "from email.mime.multipart import MIMEMultipart\n",
    "\n",
    "# Define a function to send a warning\n",
    "def send_email(subject, body, to_email):\n",
    "    from_email = \"laleh.v90@gmail.com\"\n",
    "     # I deleted the app-password for the security, an app password was created and an email successfuly was sent.\n",
    "    from_password = \"app-password\"\n",
    "\n",
    "    # Setup the MIME\n",
    "    message = MIMEMultipart()\n",
    "    message[\"From\"] = from_email\n",
    "    message[\"To\"] = to_email\n",
    "    message[\"Subject\"] = subject\n",
    "\n",
    "    # Add body to email\n",
    "    message.attach(MIMEText(body, \"plain\"))\n",
    "\n",
    "    # Create SMTP session\n",
    "    with smtplib.SMTP(\"smtp.gmail.com\", 587) as server:\n",
    "        server.starttls()\n",
    "        server.login(from_email, from_password)\n",
    "        text = message.as_string()\n",
    "        server.sendmail(from_email, to_email, text)\n",
    "\n",
    "\n",
    "# Identify samples that fail the threshold\n",
    "failing_samples = data[(data['pct_covered_bases'] < 95.0) | (data['qc_pass'] == False)].copy()\n",
    "\n",
    "# Extract the origin from the samples\n",
    "failing_samples.loc[:, 'origin'] = failing_samples['sample'].apply(lambda x: x[1])\n",
    "failing_counts = failing_samples['origin'].value_counts()\n",
    "total_counts = data['sample'].apply(lambda x: x[1]).value_counts()\n",
    "\n",
    "# The percentage of failing samples\n",
    "failing_percentage = (failing_counts / total_counts) * 100\n",
    "\n",
    "print(\"Number of failing samples from each origin:\")\n",
    "print(failing_counts)\n",
    "print(\"\\nPercentage of failing samples from each origin:\")\n",
    "print(failing_percentage)\n",
    "\n",
    "# Check if any origin has more than 10% failing samples and send an email\n",
    "for origin, percentage in failing_percentage.items():\n",
    "    if percentage > 10:\n",
    "        subject = f\"Warning: High Failure Rate for Origin {origin}\"\n",
    "        body = f\"The origin '{origin}' has a failure rate of {percentage:.2f}%.\\n\\n\"\n",
    "        body += \"Number of failing samples from each origin:\\n\"\n",
    "        body += failing_counts.to_string() + \"\\n\\n\"\n",
    "        body += \"Percentage of failing samples from each origin:\\n\"\n",
    "        body += failing_percentage.to_string()\n",
    "        \n",
    "        send_email(subject, body, \"varghaei@student.chalmers.se\")\n"
   ]
  }
 ],
 "metadata": {
  "kernelspec": {
   "display_name": "Python 3",
   "language": "python",
   "name": "python3"
  },
  "language_info": {
   "codemirror_mode": {
    "name": "ipython",
    "version": 3
   },
   "file_extension": ".py",
   "mimetype": "text/x-python",
   "name": "python",
   "nbconvert_exporter": "python",
   "pygments_lexer": "ipython3",
   "version": "3.9.6"
  }
 },
 "nbformat": 4,
 "nbformat_minor": 2
}
